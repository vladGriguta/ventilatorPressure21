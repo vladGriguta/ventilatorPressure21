{
 "cells": [
  {
   "cell_type": "code",
   "execution_count": 1,
   "id": "939b45e2",
   "metadata": {
    "execution": {
     "iopub.execute_input": "2021-09-24T22:53:53.144910Z",
     "iopub.status.busy": "2021-09-24T22:53:53.144015Z",
     "iopub.status.idle": "2021-09-24T22:53:55.585992Z",
     "shell.execute_reply": "2021-09-24T22:53:55.585349Z",
     "shell.execute_reply.started": "2021-09-24T22:01:01.243941Z"
    },
    "papermill": {
     "duration": 2.467586,
     "end_time": "2021-09-24T22:53:55.586157",
     "exception": false,
     "start_time": "2021-09-24T22:53:53.118571",
     "status": "completed"
    },
    "tags": []
   },
   "outputs": [],
   "source": [
    "# libraries\n",
    "import numpy as np\n",
    "import pandas as pd\n",
    "import matplotlib.pyplot as plt\n",
    "import seaborn as sns\n",
    "%matplotlib inline\n",
    "import os\n",
    "import time\n",
    "import lightgbm as lgb\n",
    "\n",
    "from sklearn.model_selection import GroupKFold, cross_val_score, StratifiedKFold\n",
    "from sklearn.metrics import mean_absolute_error, make_scorer\n",
    "from sklearn import metrics\n",
    "\n",
    "from hyperopt import hp, tpe\n",
    "from hyperopt.fmin import fmin"
   ]
  },
  {
   "cell_type": "code",
   "execution_count": 2,
   "id": "880e5967",
   "metadata": {
    "execution": {
     "iopub.execute_input": "2021-09-24T22:53:55.614140Z",
     "iopub.status.busy": "2021-09-24T22:53:55.613572Z",
     "iopub.status.idle": "2021-09-24T22:54:08.740740Z",
     "shell.execute_reply": "2021-09-24T22:54:08.739714Z",
     "shell.execute_reply.started": "2021-09-24T22:01:01.255191Z"
    },
    "papermill": {
     "duration": 13.143003,
     "end_time": "2021-09-24T22:54:08.740892",
     "exception": false,
     "start_time": "2021-09-24T22:53:55.597889",
     "status": "completed"
    },
    "tags": []
   },
   "outputs": [],
   "source": [
    "DATA_PATH = \"data/\"\n",
    "\n",
    "submission = pd.read_csv(DATA_PATH + 'sample_submission.csv')\n",
    "df_train = pd.read_csv(DATA_PATH + 'train.csv')\n",
    "df_test = pd.read_csv(DATA_PATH + 'test.csv')"
   ]
  },
  {
   "cell_type": "code",
   "execution_count": 3,
   "id": "b26cb6ea",
   "metadata": {
    "execution": {
     "iopub.execute_input": "2021-09-24T22:54:08.770519Z",
     "iopub.status.busy": "2021-09-24T22:54:08.769876Z",
     "iopub.status.idle": "2021-09-24T22:54:08.788481Z",
     "shell.execute_reply": "2021-09-24T22:54:08.788917Z",
     "shell.execute_reply.started": "2021-09-24T22:01:10.618373Z"
    },
    "papermill": {
     "duration": 0.037033,
     "end_time": "2021-09-24T22:54:08.789088",
     "exception": false,
     "start_time": "2021-09-24T22:54:08.752055",
     "status": "completed"
    },
    "tags": []
   },
   "outputs": [
    {
     "data": {
      "text/html": [
       "<div>\n",
       "<style scoped>\n",
       "    .dataframe tbody tr th:only-of-type {\n",
       "        vertical-align: middle;\n",
       "    }\n",
       "\n",
       "    .dataframe tbody tr th {\n",
       "        vertical-align: top;\n",
       "    }\n",
       "\n",
       "    .dataframe thead th {\n",
       "        text-align: right;\n",
       "    }\n",
       "</style>\n",
       "<table border=\"1\" class=\"dataframe\">\n",
       "  <thead>\n",
       "    <tr style=\"text-align: right;\">\n",
       "      <th></th>\n",
       "      <th>id</th>\n",
       "      <th>breath_id</th>\n",
       "      <th>R</th>\n",
       "      <th>C</th>\n",
       "      <th>time_step</th>\n",
       "      <th>u_in</th>\n",
       "      <th>u_out</th>\n",
       "      <th>pressure</th>\n",
       "    </tr>\n",
       "  </thead>\n",
       "  <tbody>\n",
       "    <tr>\n",
       "      <th>0</th>\n",
       "      <td>1</td>\n",
       "      <td>1</td>\n",
       "      <td>20</td>\n",
       "      <td>50</td>\n",
       "      <td>0.000000</td>\n",
       "      <td>0.083334</td>\n",
       "      <td>0</td>\n",
       "      <td>5.837492</td>\n",
       "    </tr>\n",
       "    <tr>\n",
       "      <th>1</th>\n",
       "      <td>2</td>\n",
       "      <td>1</td>\n",
       "      <td>20</td>\n",
       "      <td>50</td>\n",
       "      <td>0.033652</td>\n",
       "      <td>18.383041</td>\n",
       "      <td>0</td>\n",
       "      <td>5.907794</td>\n",
       "    </tr>\n",
       "    <tr>\n",
       "      <th>2</th>\n",
       "      <td>3</td>\n",
       "      <td>1</td>\n",
       "      <td>20</td>\n",
       "      <td>50</td>\n",
       "      <td>0.067514</td>\n",
       "      <td>22.509278</td>\n",
       "      <td>0</td>\n",
       "      <td>7.876254</td>\n",
       "    </tr>\n",
       "    <tr>\n",
       "      <th>3</th>\n",
       "      <td>4</td>\n",
       "      <td>1</td>\n",
       "      <td>20</td>\n",
       "      <td>50</td>\n",
       "      <td>0.101542</td>\n",
       "      <td>22.808822</td>\n",
       "      <td>0</td>\n",
       "      <td>11.742872</td>\n",
       "    </tr>\n",
       "    <tr>\n",
       "      <th>4</th>\n",
       "      <td>5</td>\n",
       "      <td>1</td>\n",
       "      <td>20</td>\n",
       "      <td>50</td>\n",
       "      <td>0.135756</td>\n",
       "      <td>25.355850</td>\n",
       "      <td>0</td>\n",
       "      <td>12.234987</td>\n",
       "    </tr>\n",
       "    <tr>\n",
       "      <th>...</th>\n",
       "      <td>...</td>\n",
       "      <td>...</td>\n",
       "      <td>...</td>\n",
       "      <td>...</td>\n",
       "      <td>...</td>\n",
       "      <td>...</td>\n",
       "      <td>...</td>\n",
       "      <td>...</td>\n",
       "    </tr>\n",
       "    <tr>\n",
       "      <th>6035995</th>\n",
       "      <td>6035996</td>\n",
       "      <td>125749</td>\n",
       "      <td>50</td>\n",
       "      <td>10</td>\n",
       "      <td>2.504603</td>\n",
       "      <td>1.489714</td>\n",
       "      <td>1</td>\n",
       "      <td>3.869032</td>\n",
       "    </tr>\n",
       "    <tr>\n",
       "      <th>6035996</th>\n",
       "      <td>6035997</td>\n",
       "      <td>125749</td>\n",
       "      <td>50</td>\n",
       "      <td>10</td>\n",
       "      <td>2.537961</td>\n",
       "      <td>1.488497</td>\n",
       "      <td>1</td>\n",
       "      <td>3.869032</td>\n",
       "    </tr>\n",
       "    <tr>\n",
       "      <th>6035997</th>\n",
       "      <td>6035998</td>\n",
       "      <td>125749</td>\n",
       "      <td>50</td>\n",
       "      <td>10</td>\n",
       "      <td>2.571408</td>\n",
       "      <td>1.558978</td>\n",
       "      <td>1</td>\n",
       "      <td>3.798729</td>\n",
       "    </tr>\n",
       "    <tr>\n",
       "      <th>6035998</th>\n",
       "      <td>6035999</td>\n",
       "      <td>125749</td>\n",
       "      <td>50</td>\n",
       "      <td>10</td>\n",
       "      <td>2.604744</td>\n",
       "      <td>1.272663</td>\n",
       "      <td>1</td>\n",
       "      <td>4.079938</td>\n",
       "    </tr>\n",
       "    <tr>\n",
       "      <th>6035999</th>\n",
       "      <td>6036000</td>\n",
       "      <td>125749</td>\n",
       "      <td>50</td>\n",
       "      <td>10</td>\n",
       "      <td>2.638017</td>\n",
       "      <td>1.482739</td>\n",
       "      <td>1</td>\n",
       "      <td>3.869032</td>\n",
       "    </tr>\n",
       "  </tbody>\n",
       "</table>\n",
       "<p>6036000 rows × 8 columns</p>\n",
       "</div>"
      ],
      "text/plain": [
       "              id  breath_id   R   C  time_step       u_in  u_out   pressure\n",
       "0              1          1  20  50   0.000000   0.083334      0   5.837492\n",
       "1              2          1  20  50   0.033652  18.383041      0   5.907794\n",
       "2              3          1  20  50   0.067514  22.509278      0   7.876254\n",
       "3              4          1  20  50   0.101542  22.808822      0  11.742872\n",
       "4              5          1  20  50   0.135756  25.355850      0  12.234987\n",
       "...          ...        ...  ..  ..        ...        ...    ...        ...\n",
       "6035995  6035996     125749  50  10   2.504603   1.489714      1   3.869032\n",
       "6035996  6035997     125749  50  10   2.537961   1.488497      1   3.869032\n",
       "6035997  6035998     125749  50  10   2.571408   1.558978      1   3.798729\n",
       "6035998  6035999     125749  50  10   2.604744   1.272663      1   4.079938\n",
       "6035999  6036000     125749  50  10   2.638017   1.482739      1   3.869032\n",
       "\n",
       "[6036000 rows x 8 columns]"
      ]
     },
     "execution_count": 3,
     "metadata": {},
     "output_type": "execute_result"
    }
   ],
   "source": [
    "df_train"
   ]
  },
  {
   "cell_type": "code",
   "execution_count": 4,
   "id": "79778180",
   "metadata": {
    "execution": {
     "iopub.execute_input": "2021-09-24T22:54:08.815063Z",
     "iopub.status.busy": "2021-09-24T22:54:08.814489Z",
     "iopub.status.idle": "2021-09-24T22:54:08.827284Z",
     "shell.execute_reply": "2021-09-24T22:54:08.826810Z",
     "shell.execute_reply.started": "2021-09-24T22:01:10.636075Z"
    },
    "papermill": {
     "duration": 0.026838,
     "end_time": "2021-09-24T22:54:08.827421",
     "exception": false,
     "start_time": "2021-09-24T22:54:08.800583",
     "status": "completed"
    },
    "tags": []
   },
   "outputs": [
    {
     "data": {
      "text/html": [
       "<div>\n",
       "<style scoped>\n",
       "    .dataframe tbody tr th:only-of-type {\n",
       "        vertical-align: middle;\n",
       "    }\n",
       "\n",
       "    .dataframe tbody tr th {\n",
       "        vertical-align: top;\n",
       "    }\n",
       "\n",
       "    .dataframe thead th {\n",
       "        text-align: right;\n",
       "    }\n",
       "</style>\n",
       "<table border=\"1\" class=\"dataframe\">\n",
       "  <thead>\n",
       "    <tr style=\"text-align: right;\">\n",
       "      <th></th>\n",
       "      <th>id</th>\n",
       "      <th>breath_id</th>\n",
       "      <th>R</th>\n",
       "      <th>C</th>\n",
       "      <th>time_step</th>\n",
       "      <th>u_in</th>\n",
       "      <th>u_out</th>\n",
       "    </tr>\n",
       "  </thead>\n",
       "  <tbody>\n",
       "    <tr>\n",
       "      <th>0</th>\n",
       "      <td>1</td>\n",
       "      <td>0</td>\n",
       "      <td>5</td>\n",
       "      <td>20</td>\n",
       "      <td>0.000000</td>\n",
       "      <td>0.000000</td>\n",
       "      <td>0</td>\n",
       "    </tr>\n",
       "    <tr>\n",
       "      <th>1</th>\n",
       "      <td>2</td>\n",
       "      <td>0</td>\n",
       "      <td>5</td>\n",
       "      <td>20</td>\n",
       "      <td>0.031904</td>\n",
       "      <td>7.515046</td>\n",
       "      <td>0</td>\n",
       "    </tr>\n",
       "    <tr>\n",
       "      <th>2</th>\n",
       "      <td>3</td>\n",
       "      <td>0</td>\n",
       "      <td>5</td>\n",
       "      <td>20</td>\n",
       "      <td>0.063827</td>\n",
       "      <td>14.651675</td>\n",
       "      <td>0</td>\n",
       "    </tr>\n",
       "    <tr>\n",
       "      <th>3</th>\n",
       "      <td>4</td>\n",
       "      <td>0</td>\n",
       "      <td>5</td>\n",
       "      <td>20</td>\n",
       "      <td>0.095751</td>\n",
       "      <td>21.230610</td>\n",
       "      <td>0</td>\n",
       "    </tr>\n",
       "    <tr>\n",
       "      <th>4</th>\n",
       "      <td>5</td>\n",
       "      <td>0</td>\n",
       "      <td>5</td>\n",
       "      <td>20</td>\n",
       "      <td>0.127644</td>\n",
       "      <td>26.320956</td>\n",
       "      <td>0</td>\n",
       "    </tr>\n",
       "    <tr>\n",
       "      <th>...</th>\n",
       "      <td>...</td>\n",
       "      <td>...</td>\n",
       "      <td>...</td>\n",
       "      <td>...</td>\n",
       "      <td>...</td>\n",
       "      <td>...</td>\n",
       "      <td>...</td>\n",
       "    </tr>\n",
       "    <tr>\n",
       "      <th>4023995</th>\n",
       "      <td>4023996</td>\n",
       "      <td>125748</td>\n",
       "      <td>20</td>\n",
       "      <td>10</td>\n",
       "      <td>2.530117</td>\n",
       "      <td>4.971245</td>\n",
       "      <td>1</td>\n",
       "    </tr>\n",
       "    <tr>\n",
       "      <th>4023996</th>\n",
       "      <td>4023997</td>\n",
       "      <td>125748</td>\n",
       "      <td>20</td>\n",
       "      <td>10</td>\n",
       "      <td>2.563853</td>\n",
       "      <td>4.975709</td>\n",
       "      <td>1</td>\n",
       "    </tr>\n",
       "    <tr>\n",
       "      <th>4023997</th>\n",
       "      <td>4023998</td>\n",
       "      <td>125748</td>\n",
       "      <td>20</td>\n",
       "      <td>10</td>\n",
       "      <td>2.597475</td>\n",
       "      <td>4.979468</td>\n",
       "      <td>1</td>\n",
       "    </tr>\n",
       "    <tr>\n",
       "      <th>4023998</th>\n",
       "      <td>4023999</td>\n",
       "      <td>125748</td>\n",
       "      <td>20</td>\n",
       "      <td>10</td>\n",
       "      <td>2.631134</td>\n",
       "      <td>4.982648</td>\n",
       "      <td>1</td>\n",
       "    </tr>\n",
       "    <tr>\n",
       "      <th>4023999</th>\n",
       "      <td>4024000</td>\n",
       "      <td>125748</td>\n",
       "      <td>20</td>\n",
       "      <td>10</td>\n",
       "      <td>2.665301</td>\n",
       "      <td>4.985373</td>\n",
       "      <td>1</td>\n",
       "    </tr>\n",
       "  </tbody>\n",
       "</table>\n",
       "<p>4024000 rows × 7 columns</p>\n",
       "</div>"
      ],
      "text/plain": [
       "              id  breath_id   R   C  time_step       u_in  u_out\n",
       "0              1          0   5  20   0.000000   0.000000      0\n",
       "1              2          0   5  20   0.031904   7.515046      0\n",
       "2              3          0   5  20   0.063827  14.651675      0\n",
       "3              4          0   5  20   0.095751  21.230610      0\n",
       "4              5          0   5  20   0.127644  26.320956      0\n",
       "...          ...        ...  ..  ..        ...        ...    ...\n",
       "4023995  4023996     125748  20  10   2.530117   4.971245      1\n",
       "4023996  4023997     125748  20  10   2.563853   4.975709      1\n",
       "4023997  4023998     125748  20  10   2.597475   4.979468      1\n",
       "4023998  4023999     125748  20  10   2.631134   4.982648      1\n",
       "4023999  4024000     125748  20  10   2.665301   4.985373      1\n",
       "\n",
       "[4024000 rows x 7 columns]"
      ]
     },
     "execution_count": 4,
     "metadata": {},
     "output_type": "execute_result"
    }
   ],
   "source": [
    "df_test"
   ]
  },
  {
   "cell_type": "markdown",
   "id": "720a71ff",
   "metadata": {
    "papermill": {
     "duration": 0.011792,
     "end_time": "2021-09-24T22:54:08.851124",
     "exception": false,
     "start_time": "2021-09-24T22:54:08.839332",
     "status": "completed"
    },
    "tags": []
   },
   "source": [
    "id - globally-unique time step identifier across an entire file  \n",
    "breath_id - globally-unique time step for breaths  \n",
    "R - lung attribute indicating how restricted the airway is (in cmH2O/L/S). Physically, this is the change in pressure per change in flow (air volume per time). Intuitively, one can imagine blowing up a balloon through a straw. We can change R by changing the diameter of the straw, with higher R being harder to blow.  \n",
    "C - lung attribute indicating how compliant the lung is (in mL/cmH2O). Physically, this is the change in volume per change in pressure. Intuitively, one can imagine the same balloon example. We can change C by changing the thickness of the balloon’s latex, with higher C having thinner latex and easier to blow.  \n",
    "time_step - the actual time stamp.  \n",
    "u_in - the control input for the inspiratory solenoid valve. Ranges from 0 to 100.  \n",
    "u_out - the control input for the exploratory solenoid valve. Either 0 or 1.  \n",
    "pressure - the airway pressure measured in the respiratory circuit, measured in cmH2O.  "
   ]
  },
  {
   "cell_type": "markdown",
   "id": "47ab71be",
   "metadata": {
    "papermill": {
     "duration": 0.011704,
     "end_time": "2021-09-24T22:54:08.874961",
     "exception": false,
     "start_time": "2021-09-24T22:54:08.863257",
     "status": "completed"
    },
    "tags": []
   },
   "source": [
    "## Feature exploration\n",
    "We want to observe how the features evolve in several random breath cycles"
   ]
  },
  {
   "cell_type": "code",
   "execution_count": 5,
   "id": "82c1c06f",
   "metadata": {
    "execution": {
     "iopub.execute_input": "2021-09-24T22:54:08.901976Z",
     "iopub.status.busy": "2021-09-24T22:54:08.901378Z",
     "iopub.status.idle": "2021-09-24T22:54:11.038842Z",
     "shell.execute_reply": "2021-09-24T22:54:11.039514Z",
     "shell.execute_reply.started": "2021-09-24T22:01:10.658783Z"
    },
    "papermill": {
     "duration": 2.152807,
     "end_time": "2021-09-24T22:54:11.039707",
     "exception": false,
     "start_time": "2021-09-24T22:54:08.886900",
     "status": "completed"
    },
    "tags": []
   },
   "outputs": [],
   "source": [
    "np.random.seed(88)\n",
    "n_rows = 7\n",
    "n_cols = 2\n",
    "def plot_sample(df, n_rows, n_cols):\n",
    "    n_cycles = n_rows * n_cols\n",
    "    fig, axs = plt.subplots(n_rows, n_cols, figsize=(10*n_cols, 5*n_rows))\n",
    "    breath_ids = df_train.breath_id.sample(n_cycles).values\n",
    "    \n",
    "    for row in range(n_rows):\n",
    "        for col in range(n_cols):\n",
    "            breath_id = breath_ids[row*n_cols+col]\n",
    "            df_breath = df[df['breath_id'] == breath_id]\n",
    "            assert df_breath.drop_duplicates(subset=['R', 'C']).shape[0] == 1\n",
    "            [r, c] = df_breath.drop_duplicates(subset=['R', 'C'])[['R', 'C']]\n",
    "\n",
    "            for col_name in ['u_in', 'u_out', 'pressure']:\n",
    "                axs[row, col].plot(df_breath['time_step'], df_breath[col_name], label=col_name)\n",
    "            axs[row, col].legend()\n",
    "            plt.title(f'Sample {breath_id} - R={r}, C={c}')\n",
    "            axs[row, col].grid(True)\n",
    "\n",
    "#plot_sample(df_train, 5, 2)"
   ]
  },
  {
   "cell_type": "code",
   "execution_count": 6,
   "id": "3673efe8",
   "metadata": {
    "execution": {
     "iopub.execute_input": "2021-09-24T22:54:11.085513Z",
     "iopub.status.busy": "2021-09-24T22:54:11.084912Z",
     "iopub.status.idle": "2021-09-24T22:54:11.518397Z",
     "shell.execute_reply": "2021-09-24T22:54:11.517717Z",
     "shell.execute_reply.started": "2021-09-24T22:01:12.937340Z"
    },
    "papermill": {
     "duration": 0.457592,
     "end_time": "2021-09-24T22:54:11.518547",
     "exception": false,
     "start_time": "2021-09-24T22:54:11.060955",
     "status": "completed"
    },
    "tags": []
   },
   "outputs": [
    {
     "data": {
      "text/plain": [
       "<AxesSubplot:>"
      ]
     },
     "execution_count": 6,
     "metadata": {},
     "output_type": "execute_result"
    },
    {
     "data": {
      "image/png": "[encoded data removed]",
      "text/plain": [
       "<Figure size 1152x288 with 1 Axes>"
      ]
     },
     "metadata": {
      "needs_background": "light"
     },
     "output_type": "display_data"
    }
   ],
   "source": [
    "df_train.pressure.hist(figsize=(16,4))"
   ]
  },
  {
   "cell_type": "code",
   "execution_count": 7,
   "id": "d41582b6",
   "metadata": {
    "execution": {
     "iopub.execute_input": "2021-09-24T22:54:11.720298Z",
     "iopub.status.busy": "2021-09-24T22:54:11.710557Z",
     "iopub.status.idle": "2021-09-24T22:54:53.273579Z",
     "shell.execute_reply": "2021-09-24T22:54:53.274409Z"
    },
    "papermill": {
     "duration": 41.732167,
     "end_time": "2021-09-24T22:54:53.274913",
     "exception": false,
     "start_time": "2021-09-24T22:54:11.542746",
     "status": "completed"
    },
    "tags": []
   },
   "outputs": [],
   "source": [
    "def feature_engineering(df):\n",
    "    df['last_value_u_in'] = df.groupby('breath_id')['u_in'].transform('last')\n",
    "    df['u_in_lag1'] = df.groupby('breath_id')['u_in'].shift(1)\n",
    "    df['u_out_lag1'] = df.groupby('breath_id')['u_out'].shift(1)\n",
    "    df['u_in_lag_back1'] = df.groupby('breath_id')['u_in'].shift(-1)\n",
    "    df['u_out_lag_back1'] = df.groupby('breath_id')['u_out'].shift(-1)\n",
    "    df['u_in_lag2'] = df.groupby('breath_id')['u_in'].shift(2)\n",
    "    df['u_out_lag2'] = df.groupby('breath_id')['u_out'].shift(2)\n",
    "    df['u_in_lag_back2'] = df.groupby('breath_id')['u_in'].shift(-2)\n",
    "    df['u_out_lag_back2'] = df.groupby('breath_id')['u_out'].shift(-2)\n",
    "    df = df.fillna(0)\n",
    "\n",
    "    # max value of u_in and u_out for each breath\n",
    "    df['breath_id__u_in__max'] = df.groupby(['breath_id'])['u_in'].transform('max')\n",
    "    df['breath_id__u_out__max'] = df.groupby(['breath_id'])['u_out'].transform('max')\n",
    "\n",
    "    df['breath_id__u_in__min'] = df.groupby(['breath_id'])['u_in'].transform('min')\n",
    "    df['breath_id__u_out__min'] = df.groupby(['breath_id'])['u_out'].transform('min')\n",
    "\n",
    "    # difference between consequitive values\n",
    "    df['R__C'] = df[\"R\"].astype(str) + '__' + df[\"C\"].astype(str)\n",
    "    df['u_in_diff1'] = df['u_in'] - df['u_in_lag1']\n",
    "    df['u_out_diff1'] = df['u_out'] - df['u_out_lag1']\n",
    "    df['u_in_diff2'] = df['u_in'] - df['u_in_lag2']\n",
    "    df['u_out_diff2'] = df['u_out'] - df['u_out_lag2']\n",
    "    # from here: https://www.kaggle.com/yasufuminakama/ventilator-pressure-lstm-starter\n",
    "    df.loc[df['time_step'] == 0, 'u_in_diff'] = 0\n",
    "    df.loc[df['time_step'] == 0, 'u_out_diff'] = 0\n",
    "\n",
    "    # difference between the current value of u_in and the max value within the breath\n",
    "    df['breath_id__u_in__diffmax'] = df.groupby(['breath_id'])['u_in'].transform('max') - df['u_in']\n",
    "    df['breath_id__u_in__diffmean'] = df.groupby(['breath_id'])['u_in'].transform('mean') - df['u_in']\n",
    "\n",
    "    # OHE\n",
    "    df = df.merge(pd.get_dummies(df['R'], prefix='R'), left_index=True, right_index=True).drop(['R'], axis=1)\n",
    "    df = df.merge(pd.get_dummies(df['C'], prefix='C'), left_index=True, right_index=True).drop(['C'], axis=1)\n",
    "    df = df.merge(pd.get_dummies(df['R__C'], prefix='R__C'), left_index=True, right_index=True).drop(['R__C'], axis=1)\n",
    "\n",
    "    # https://www.kaggle.com/c/ventilator-pressure-prediction/discussion/273974\n",
    "    df['u_in_cumsum'] = df.groupby(['breath_id'])['u_in'].cumsum()\n",
    "    df['time_step_cumsum'] = df.groupby(['breath_id'])['time_step'].cumsum()\n",
    "    \n",
    "    return df\n",
    "\n",
    "df_train = feature_engineering(df_train)\n",
    "# remove entries with 0 u_out from the training set\n",
    "df_train = df_train[df_train.u_out==1]\n",
    "\n",
    "df_test = feature_engineering(df_test)"
   ]
  },
  {
   "cell_type": "code",
   "execution_count": 8,
   "id": "5941c113",
   "metadata": {
    "execution": {
     "iopub.execute_input": "2021-09-24T22:54:53.331353Z",
     "iopub.status.busy": "2021-09-24T22:54:53.330291Z",
     "iopub.status.idle": "2021-09-24T22:54:53.332264Z",
     "shell.execute_reply": "2021-09-24T22:54:53.332757Z",
     "shell.execute_reply.started": "2021-09-24T22:21:03.468694Z"
    },
    "papermill": {
     "duration": 0.034442,
     "end_time": "2021-09-24T22:54:53.332951",
     "exception": false,
     "start_time": "2021-09-24T22:54:53.298509",
     "status": "completed"
    },
    "tags": []
   },
   "outputs": [],
   "source": [
    "def optimize_parameters(X, y, groups, n_splits=5, max_evals=20):\n",
    "    # define fixed hyperparameters\n",
    "    params = {'objective': 'regression_l1',\n",
    "              'learning_rate': 0.25,\n",
    "              \"boosting_type\": \"gbdt\",\n",
    "              'min_data_in_leaf':600,\n",
    "              'max_bin': 196,\n",
    "              #'device':'gpu',\n",
    "              'feature_fraction':0.4,\n",
    "              'lambda_l1':36, 'lambda_l2':80,\n",
    "              'max_depth':16,\n",
    "              'num_leaves':1000,\n",
    "              \"metric\": 'mae',\n",
    "              'n_jobs': -1\n",
    "             }\n",
    "    \n",
    "    # define floating hyperparameters\n",
    "    space = {\n",
    "        'n_estimators': hp.quniform('n_estimators', 6000, 12000, 500),\n",
    "        'max_depth': hp.quniform('max_depth', 16, 20, 1),\n",
    "        'num_leaves': hp.quniform('num_leaves', 1000, 2000, 50),\n",
    "        'objective': hp.choice('loss', ['regression', 'regression_l1', 'quantile', 'mape'])\n",
    "    }\n",
    "    # define the objective function to optimize the hyperparameters\n",
    "    def objective(floating_params):\n",
    "        params['n_estimators'] = int(floating_params['n_estimators'])\n",
    "        params['max_depth'] = int(floating_params['max_depth'])\n",
    "        params['num_leaves'] = int(floating_params['num_leaves'])\n",
    "        scores = []\n",
    "        model = lgb.LGBMRegressor(**params)\n",
    "        model.fit(X, y, verbose=-1)\n",
    "        score = metrics.mean_absolute_error(y, model.predict(X))\n",
    "        return score\n",
    "\n",
    "    best = fmin(fn=objective,\n",
    "                space=space,\n",
    "                algo=tpe.suggest,\n",
    "                max_evals=max_evals)\n",
    "    \n",
    "    best['num_iterations'] =  1500\n",
    "    best['n_estimators'] = int(best['n_estimators']); best['max_depth'] = int(best['max_depth']); \n",
    "    best['num_leaves'] = int(best['num_leaves'])\n",
    "    \n",
    "    return best"
   ]
  },
  {
   "cell_type": "markdown",
   "id": "a0cea81e",
   "metadata": {
    "execution": {
     "iopub.status.busy": "2021-09-24T19:42:45.061485Z",
     "iopub.status.idle": "2021-09-24T19:42:45.062154Z",
     "shell.execute_reply": "2021-09-24T19:42:45.061948Z",
     "shell.execute_reply.started": "2021-09-24T19:42:45.06192Z"
    },
    "papermill": {
     "duration": 0.021251,
     "end_time": "2021-09-24T22:54:53.375348",
     "exception": false,
     "start_time": "2021-09-24T22:54:53.354097",
     "status": "completed"
    },
    "tags": []
   },
   "source": [
    "# Lgbm parameter tuning"
   ]
  },
  {
   "cell_type": "code",
   "execution_count": null,
   "id": "32a0bf58",
   "metadata": {
    "execution": {
     "iopub.execute_input": "2021-09-24T22:54:53.422289Z",
     "iopub.status.busy": "2021-09-24T22:54:53.421157Z",
     "iopub.status.idle": "2021-09-24T22:59:18.794930Z",
     "shell.execute_reply": "2021-09-24T22:59:18.794414Z",
     "shell.execute_reply.started": "2021-09-24T22:21:04.355877Z"
    },
    "papermill": {
     "duration": 265.398486,
     "end_time": "2021-09-24T22:59:18.795179",
     "exception": false,
     "start_time": "2021-09-24T22:54:53.396693",
     "status": "completed"
    },
    "tags": []
   },
   "outputs": [
    {
     "name": "stdout",
     "output_type": "stream",
     "text": [
      "[LightGBM] [Warning] lambda_l1 is set=36, reg_alpha=0.0 will be ignored. Current value: lambda_l1=36\n",
      "[LightGBM] [Warning] feature_fraction is set=0.4, colsample_bytree=1.0 will be ignored. Current value: feature_fraction=0.4\n",
      "[LightGBM] [Warning] min_data_in_leaf is set=600, min_child_samples=20 will be ignored. Current value: min_data_in_leaf=600\n",
      "[LightGBM] [Warning] lambda_l2 is set=80, reg_lambda=0.0 will be ignored. Current value: lambda_l2=80\n",
      "  0%|                                    | 0/20 [00:00<?, ?trial/s, best loss=?]"
     ]
    }
   ],
   "source": [
    "columns = [col for col in df_train.columns if col not in ['id', 'pressure', 'breath_id']]\n",
    "from sklearn.preprocessing import MinMaxScaler\n",
    "sc = MinMaxScaler()\n",
    "subset = df_train[df_train.breath_id.isin(range(100000))]\n",
    "X = subset[columns]\n",
    "y = subset['pressure'] #sc.fit_transform(df_train['pressure'].values.reshape(-1,1)).flatten()\n",
    "params = {'objective': 'regression_l1', # 'regression'\n",
    "          'learning_rate': 0.25,\n",
    "          \"boosting_type\": \"gbdt\",\n",
    "          'min_data_in_leaf':600,\n",
    "          'max_bin': 196,\n",
    "          #'device':'gpu',\n",
    "          'feature_fraction':0.4,\n",
    "          'lambda_l1':36, 'lambda_l2':80,\n",
    "          'max_depth':16,\n",
    "          'num_leaves':1000,\n",
    "          \"metric\": 'mae',\n",
    "          'n_jobs': -1\n",
    "         }\n",
    "params = optimize_parameters(X, y, subset['breath_id'])"
   ]
  },
  {
   "cell_type": "code",
   "execution_count": null,
   "id": "51f40a9f",
   "metadata": {
    "execution": {
     "iopub.execute_input": "2021-09-24T22:59:19.389820Z",
     "iopub.status.busy": "2021-09-24T22:59:19.389147Z",
     "iopub.status.idle": "2021-09-24T23:02:01.947975Z",
     "shell.execute_reply": "2021-09-24T23:02:01.948486Z",
     "shell.execute_reply.started": "2021-09-24T22:53:14.798926Z"
    },
    "papermill": {
     "duration": 163.115531,
     "end_time": "2021-09-24T23:02:01.948704",
     "exception": false,
     "start_time": "2021-09-24T22:59:18.833173",
     "status": "completed"
    },
    "tags": []
   },
   "outputs": [],
   "source": [
    "scores = []\n",
    "X = df_train[columns]\n",
    "groups = df_train['breath_id']\n",
    "y = df_train['pressure']\n",
    "feature_importance = pd.DataFrame()\n",
    "models = []\n",
    "folds = GroupKFold(n_splits=5)\n",
    "for fold_n, (train_index, valid_index) in enumerate(folds.split(X[columns], y, groups=groups)):\n",
    "    print(f'Fold {fold_n} started at {time.ctime()}')\n",
    "    X_train, X_valid = X[columns].iloc[train_index], X[columns].iloc[valid_index]\n",
    "    y_train, y_valid = y.iloc[train_index], y.iloc[valid_index]\n",
    "    \n",
    "    model = lgb.LGBMRegressor(**params, n_estimators=8000)\n",
    "    model.fit(X_train, y_train, \n",
    "            eval_set=[(X_train, y_train), (X_valid, y_valid)],\n",
    "            verbose=100, early_stopping_rounds=10)\n",
    "    score = metrics.mean_absolute_error(y_valid, model.predict(X_valid))\n",
    "    \n",
    "    models.append(model)\n",
    "    scores.append(score)\n",
    "\n",
    "    fold_importance = pd.DataFrame()\n",
    "    fold_importance[\"feature\"] = columns\n",
    "    fold_importance[\"importance\"] = model.feature_importances_\n",
    "    fold_importance[\"fold\"] = fold_n + 1\n",
    "    feature_importance = pd.concat([feature_importance, fold_importance], axis=0)\n",
    "print('CV mean score: {0:.4f}, std: {1:.4f}.'.format(np.mean(scores), np.std(scores)))"
   ]
  },
  {
   "cell_type": "code",
   "execution_count": null,
   "id": "df030831",
   "metadata": {
    "execution": {
     "iopub.execute_input": "2021-09-24T23:02:02.051018Z",
     "iopub.status.busy": "2021-09-24T23:02:02.050396Z",
     "iopub.status.idle": "2021-09-24T23:02:02.225610Z",
     "shell.execute_reply": "2021-09-24T23:02:02.224997Z",
     "shell.execute_reply.started": "2021-09-24T22:53:30.467842Z"
    },
    "papermill": {
     "duration": 0.235746,
     "end_time": "2021-09-24T23:02:02.226129",
     "exception": true,
     "start_time": "2021-09-24T23:02:01.990383",
     "status": "failed"
    },
    "tags": []
   },
   "outputs": [],
   "source": [
    "feature_importance[\"importance\"] /= 5\n",
    "cols = feature_importance[[\"feature\", \"importance\"]].groupby(\"feature\").mean().sort_values(\n",
    "    by=\"importance\", ascending=False)[:50].index\n",
    "\n",
    "best_features = feature_importance.loc[feature_importance.feature.isin(cols)]\n",
    "\n",
    "plt.figure(figsize=(16, 12));\n",
    "sns.barplot(x=\"importance\", y=\"feature\", data=best_features.sort_values(by=\"importance\", ascending=False));\n",
    "plt.title('LGB Features (avg over folds)')"
   ]
  },
  {
   "cell_type": "code",
   "execution_count": null,
   "id": "f48e56af",
   "metadata": {
    "execution": {
     "iopub.status.busy": "2021-09-24T22:53:11.153263Z",
     "iopub.status.idle": "2021-09-24T22:53:11.153837Z",
     "shell.execute_reply": "2021-09-24T22:53:11.153658Z",
     "shell.execute_reply.started": "2021-09-24T22:53:11.153638Z"
    },
    "papermill": {
     "duration": null,
     "end_time": null,
     "exception": null,
     "start_time": null,
     "status": "pending"
    },
    "tags": []
   },
   "outputs": [],
   "source": [
    "for model in models[:-1]:\n",
    "    submission['pressure'] += model.predict(df_test[columns])\n",
    "submission['pressure'] /= 4"
   ]
  },
  {
   "cell_type": "code",
   "execution_count": null,
   "id": "d495f057",
   "metadata": {
    "execution": {
     "iopub.status.busy": "2021-09-24T22:53:11.154902Z",
     "iopub.status.idle": "2021-09-24T22:53:11.155309Z",
     "shell.execute_reply": "2021-09-24T22:53:11.155141Z",
     "shell.execute_reply.started": "2021-09-24T22:53:11.155122Z"
    },
    "papermill": {
     "duration": null,
     "end_time": null,
     "exception": null,
     "start_time": null,
     "status": "pending"
    },
    "tags": []
   },
   "outputs": [],
   "source": [
    "submission.to_csv('submissions.csv', index=False)"
   ]
  },
  {
   "cell_type": "code",
   "execution_count": null,
   "id": "6f83344e",
   "metadata": {
    "papermill": {
     "duration": null,
     "end_time": null,
     "exception": null,
     "start_time": null,
     "status": "pending"
    },
    "tags": []
   },
   "outputs": [],
   "source": []
  },
  {
   "cell_type": "code",
   "execution_count": null,
   "id": "a9058086",
   "metadata": {},
   "outputs": [],
   "source": []
  },
  {
   "cell_type": "code",
   "execution_count": null,
   "id": "12cea52b",
   "metadata": {},
   "outputs": [],
   "source": []
  },
  {
   "cell_type": "code",
   "execution_count": null,
   "id": "45786bbb",
   "metadata": {},
   "outputs": [],
   "source": [
    "from numba import cuda\n",
    "\n",
    "cuda.select_device(0)\n",
    "cuda.close()"
   ]
  }
 ],
 "metadata": {
  "kernelspec": {
   "display_name": "Python 3 (ipykernel)",
   "language": "python",
   "name": "python3"
  },
  "language_info": {
   "codemirror_mode": {
    "name": "ipython",
    "version": 3
   },
   "file_extension": ".py",
   "mimetype": "text/x-python",
   "name": "python",
   "nbconvert_exporter": "python",
   "pygments_lexer": "ipython3",
   "version": "3.8.9"
  },
  "papermill": {
   "default_parameters": {},
   "duration": 497.906758,
   "end_time": "2021-09-24T23:02:03.818762",
   "environment_variables": {},
   "exception": true,
   "input_path": "__notebook__.ipynb",
   "output_path": "__notebook__.ipynb",
   "parameters": {},
   "start_time": "2021-09-24T22:53:45.912004",
   "version": "2.3.3"
  }
 },
 "nbformat": 4,
 "nbformat_minor": 5
}
